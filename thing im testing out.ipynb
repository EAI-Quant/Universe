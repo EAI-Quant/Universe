{
 "cells": [
  {
   "cell_type": "code",
   "execution_count": 1,
   "metadata": {},
   "outputs": [],
   "source": [
    "import pymongo\n",
    "import pandas as pd\n",
    "import numpy as np\n",
    "import datetime"
   ]
  },
  {
   "cell_type": "code",
   "execution_count": 2,
   "metadata": {},
   "outputs": [],
   "source": [
    "# Stupid but smart\n",
    "def getCorrespondingStartDate(date):\n",
    "    month = date.month\n",
    "    year = date.year\n",
    "    if month - 10 >= 0: \n",
    "        return datetime.date(year, 10, 1)\n",
    "    if month - 7 >= 0:\n",
    "        return datetime.date(year, 7, 1)\n",
    "    if month - 4 >= 0:\n",
    "        return datetime.date(year, 4, 1)\n",
    "    return datetime.date(year, 1, 1)"
   ]
  },
  {
   "cell_type": "code",
   "execution_count": 3,
   "metadata": {},
   "outputs": [],
   "source": [
    "# here's my plan. i iterate through features separately. so i can sort by $exists = True.\n",
    "# helps avoid those annoying key errors, and the mathematical badness of setting nan = 0\n",
    "# when you're trying to calculate an average. \n",
    "# it's NOT efficient, but we're only doing it once. right??\n",
    "\n",
    "# shift fields: fields shifted back by -4 (so we look ahead to one year later)\n",
    "def getDataAnomQuarterly(start_date, end_date, stocks, non_shift_fields, shift_fields=None):\n",
    "    client = pymongo.MongoClient('localhost', 27017, maxPoolSize=100)\n",
    "    db = client['Stocks']\n",
    "\n",
    "    fields = non_shift_fields + shift_fields\n",
    "    cols = ['Stock'] + fields\n",
    "    \n",
    "    temp_end_date = end_date + pd.DateOffset(years=1)\n",
    "\n",
    "    date_index = pd.date_range(getCorrespondingStartDate(start_date),\n",
    "                               getCorrespondingStartDate(temp_end_date),\n",
    "                               freq='QS')\n",
    "    \n",
    "    df_arr = [None for _ in range(len(stocks))]\n",
    "    \n",
    "    curr_date = None\n",
    "    curr_total = 0\n",
    "    curr_count = 0\n",
    "    \n",
    "    for i in range(len(stocks)): \n",
    "        \n",
    "        stock = stocks[i]\n",
    "        df = pd.DataFrame([], columns=cols, index=date_index)\n",
    "        df['Stock'] = stock\n",
    "        \n",
    "        for field in fields:\n",
    "            \n",
    "            curr_stock = db[stock]\n",
    "            \n",
    "            for thing in curr_stock.find({field:{'$exists': True}}).sort([('Date', 1)]):\n",
    "                date = thing['Date']\n",
    "                if date > temp_end_date:\n",
    "                    break\n",
    "                if date < start_date:\n",
    "                    continue\n",
    "                    \n",
    "                corr_date = getCorrespondingStartDate(date)\n",
    "\n",
    "                if curr_date is None:\n",
    "                    curr_count += 1\n",
    "                    curr_date = corr_date\n",
    "                    curr_total = thing[field]\n",
    "                elif (corr_date == curr_date):\n",
    "                    curr_count += 1\n",
    "                    curr_total += thing[field]   \n",
    "                \n",
    "                # If the dates don't match, we save the info before moving on. \n",
    "                else:\n",
    "                    df.at[curr_date, field] = curr_total/curr_count\n",
    "                    curr_date = corr_date\n",
    "                    curr_count = 1\n",
    "                    curr_total = thing[field]\n",
    "\n",
    "        \n",
    "        # Do the shifting\n",
    "        for sfield in shift_fields:\n",
    "            shifted = df[sfield].shift(periods=-4)\n",
    "            new_name = sfield + ' in 1 yr'\n",
    "            df[new_name] = shifted\n",
    "        \n",
    "        # Drop the temporary extra rows we calculated (in order to do shifting)\n",
    "        df.drop(df.tail(4).index,inplace=True)\n",
    "        \n",
    "        df_arr[i] = df\n",
    "            \n",
    "    return pd.concat(df_arr).sort_index()\n"
   ]
  },
  {
   "cell_type": "code",
   "execution_count": 4,
   "metadata": {
    "scrolled": false
   },
   "outputs": [],
   "source": [
    "start_date = datetime.datetime(2000, 1, 1)\n",
    "end_date = datetime.datetime(2005, 1, 1)\n",
    "\n",
    "stocks = [\"AAPL US Equity\", \"WWW US Equity\"]\n",
    "\n",
    "fields = ['EBITDA']\n",
    "shift_fields = ['LAST_PRICE']\n",
    "\n",
    "dataDict = getDataAnomQuarterly(start_date, end_date, stocks, fields, shift_fields)"
   ]
  },
  {
   "cell_type": "code",
   "execution_count": 5,
   "metadata": {
    "scrolled": false
   },
   "outputs": [
    {
     "name": "stdout",
     "output_type": "stream",
     "text": [
      "                     Stock   EBITDA LAST_PRICE LAST_PRICE in 1 yr\n",
      "2000-01-01  AAPL US Equity      NaN    4.21653            1.47487\n",
      "2000-01-01   WWW US Equity  21.5895     3.5139            4.95553\n",
      "2000-04-01  AAPL US Equity      191    3.72397            1.63547\n",
      "2000-04-01   WWW US Equity   21.337    3.68057            5.85223\n",
      "2000-07-01  AAPL US Equity    147.5    3.27383            1.25833\n",
      "2000-07-01   WWW US Equity   -8.131     3.4236             5.5722\n",
      "2000-10-01  AAPL US Equity     -396     1.2128            1.44667\n",
      "2000-10-01   WWW US Equity   21.872     4.2361            4.97447\n",
      "2001-01-01  AAPL US Equity       14    1.47487             1.6688\n",
      "2001-01-01   WWW US Equity   14.905    4.95553            5.37553\n",
      "2001-04-01  AAPL US Equity       68    1.63547            1.55453\n",
      "2001-04-01   WWW US Equity   19.331    5.85223            5.90447\n",
      "2001-07-01   WWW US Equity   27.946     5.5722               4.98\n",
      "2001-07-01  AAPL US Equity       83    1.25833            1.05977\n",
      "2001-10-01   WWW US Equity   30.297    4.97447            5.32667\n",
      "2001-10-01  AAPL US Equity       48    1.44667            1.09287\n",
      "2002-01-01   WWW US Equity    15.27    5.37553             5.3933\n",
      "2002-01-01  AAPL US Equity       57     1.6688            1.03593\n",
      "2002-04-01   WWW US Equity   19.336    5.90447               6.23\n",
      "2002-04-01  AAPL US Equity       41    1.55453            1.21973\n",
      "2002-07-01   WWW US Equity   28.718       4.98            6.51113\n",
      "2002-07-01  AAPL US Equity       18    1.05977            1.53357\n",
      "2002-10-01  AAPL US Equity       17    1.09287            1.55167\n",
      "2002-10-01   WWW US Equity    30.61    5.32667            6.81887\n",
      "2003-01-01   WWW US Equity   16.562     5.3933             7.6111\n",
      "2003-01-01  AAPL US Equity       29    1.03593            1.75047\n",
      "2003-04-01   WWW US Equity   18.967       6.23             8.8311\n",
      "2003-04-01  AAPL US Equity       40    1.21973            2.05667\n",
      "2003-07-01   WWW US Equity   30.122    6.51113            8.07777\n",
      "2003-07-01  AAPL US Equity       51    1.53357            2.51383\n",
      "2003-10-01  AAPL US Equity      107    1.55167             4.3774\n",
      "2003-10-01   WWW US Equity      NaN    6.81887            10.2011\n",
      "2004-01-01   WWW US Equity   27.915     7.6111            10.7722\n",
      "2004-01-01  AAPL US Equity       98    1.75047            5.95147\n",
      "2004-04-01   WWW US Equity   21.448     8.8311            11.2133\n",
      "2004-04-01  AAPL US Equity      121    2.05667             5.3633\n",
      "2004-07-01   WWW US Equity   37.583    8.07777            10.6867\n",
      "2004-07-01  AAPL US Equity      173    2.51383             6.8167\n",
      "2004-10-01   WWW US Equity      NaN    10.2011             38.749\n",
      "2004-10-01  AAPL US Equity      444     4.3774                802\n",
      "2005-01-01  AAPL US Equity      484    5.95147                NaN\n",
      "2005-01-01   WWW US Equity  32.4815    10.7722                NaN\n"
     ]
    }
   ],
   "source": [
    "print(dataDict)"
   ]
  },
  {
   "cell_type": "code",
   "execution_count": null,
   "metadata": {},
   "outputs": [],
   "source": []
  }
 ],
 "metadata": {
  "kernelspec": {
   "display_name": "Python 3",
   "language": "python",
   "name": "python3"
  },
  "language_info": {
   "codemirror_mode": {
    "name": "ipython",
    "version": 3
   },
   "file_extension": ".py",
   "mimetype": "text/x-python",
   "name": "python",
   "nbconvert_exporter": "python",
   "pygments_lexer": "ipython3",
   "version": "3.6.6"
  }
 },
 "nbformat": 4,
 "nbformat_minor": 2
}
