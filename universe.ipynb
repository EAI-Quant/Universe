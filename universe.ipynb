{
 "cells": [
  {
   "cell_type": "code",
   "execution_count": 1,
   "metadata": {},
   "outputs": [],
   "source": [
    "import numpy as np\n",
    "import pymongo\n",
    "import math\n",
    "from collections import defaultdict\n",
    "from functools import partial\n",
    "import datetime\n",
    "from dateutil import relativedelta"
   ]
  },
  {
   "cell_type": "code",
   "execution_count": 64,
   "metadata": {},
   "outputs": [],
   "source": [
    "client = pymongo.MongoClient('localhost', 27017, maxPoolSize=100)\n",
    "db = client[\"Stocks\"]\n",
    "stocks = db.list_collection_names()"
   ]
  },
  {
   "cell_type": "code",
   "execution_count": 65,
   "metadata": {},
   "outputs": [],
   "source": [
    "def update_stocks_return(stocks, db):\n",
    "    for stock in stocks:\n",
    "        curr_db = db[stock]\n",
    "        \n",
    "        last_price = None\n",
    "        last_id = None\n",
    "\n",
    "        for thing in curr_db.find({'LAST_PRICE':{'$exists': True}}).sort([('Date', 1)]):\n",
    "            curr_price = thing['LAST_PRICE']\n",
    "            if last_price != None:\n",
    "                last_return = math.log(curr_price/last_price)\n",
    "                curr_db.update_one({\"_id\": last_id}, {'$set': {'LOG_RETURN': last_return}})\n",
    "\n",
    "            last_price = curr_price\n",
    "            last_id = thing['_id']"
   ]
  }
 ],
 "metadata": {
  "kernelspec": {
   "display_name": "Python 3",
   "language": "python",
   "name": "python3"
  },
  "language_info": {
   "codemirror_mode": {
    "name": "ipython",
    "version": 3
   },
   "file_extension": ".py",
   "mimetype": "text/x-python",
   "name": "python",
   "nbconvert_exporter": "python",
   "pygments_lexer": "ipython3",
   "version": "3.6.6"
  }
 },
 "nbformat": 4,
 "nbformat_minor": 2
}
